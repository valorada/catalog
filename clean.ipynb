{
 "cells": [
  {
   "cell_type": "code",
   "execution_count": 75,
   "id": "557c8c03",
   "metadata": {},
   "outputs": [],
   "source": [
    "import pandas as pd"
   ]
  },
  {
   "cell_type": "code",
   "execution_count": 76,
   "id": "85eba8a0",
   "metadata": {},
   "outputs": [],
   "source": [
    "rename_columns = {\n",
    "    \"Data_ID\": \"dataset_id\",\n",
    "    \"IndicatorID\": \"indicator_id\",\n",
    "    \"Category\": \"category\",\n",
    "    \"Indicator Name\": \"name\",\n",
    "    \"Data_Name\": \"name\",\n",
    "    \"Indicator_Description\": \"description\",\n",
    "    \"Indicator Source(s)\": \"source\",\n",
    "    \"General_Description_Datasets\": \"description\",\n",
    "    \"Dataset_Examples_ Citation\": \"citation\",\n",
    "    \"Dataset_Sources_Examples_ Licenses\": \"licenses\",\n",
    "    \"Dataset_Examples_ Notes\": \"notes\"\n",
    "}\n",
    "\n",
    "ddf = pd.read_csv(\"datasets.csv\").dropna(how=\"all\").rename(columns=rename_columns).set_index(\"dataset_id\")\n",
    "idf = pd.read_csv(\"indicators.csv\").dropna(how=\"all\").rename(columns=rename_columns).set_index(\"indicator_id\")\n",
    "#ddf.columns\n"
   ]
  },
  {
   "cell_type": "code",
   "execution_count": 77,
   "id": "d457fcc8",
   "metadata": {},
   "outputs": [],
   "source": [
    "link_cols = [c for c in ddf.columns if c.startswith(\"Ind\") and c.endswith(\"ID\")]\n",
    "ddf[[c for c in ddf.columns if c not in link_cols]].to_csv(\"datasets_clean.csv\", index=True)\n",
    "ddf_links = ddf[link_cols]\n",
    "\n",
    "link_cols = [c for c in idf.columns if c.startswith(\"Data_\") and c.endswith(\"ID\")]\n",
    "idf[[c for c in idf.columns if c not in link_cols]].to_csv(\"indicators_clean.csv\", index=True)\n",
    "idf_links = idf[link_cols]"
   ]
  },
  {
   "cell_type": "code",
   "execution_count": 78,
   "id": "25c8aed1",
   "metadata": {},
   "outputs": [],
   "source": [
    "idf_links.reset_index().melt(\n",
    "    id_vars=[\"indicator_id\"],\n",
    "    value_vars=link_cols,\n",
    "    value_name=\"dataset_id\",\n",
    ").replace(\"xxx\", pd.NA).dropna(subset=[\"dataset_id\"]).drop(columns=[\"variable\"]).sort_values(\n",
    "    by=[\"indicator_id\", \"dataset_id\"]\n",
    ").to_csv(\"links.csv\", index=False)"
   ]
  },
  {
   "cell_type": "code",
   "execution_count": 79,
   "id": "c47833cd",
   "metadata": {},
   "outputs": [],
   "source": [
    "ddf[[c for c in ddf.columns if c in rename_columns.values()]].to_csv(\"datasets_clean.csv\", index=True)\n",
    "idf[[c for c in idf.columns if c in rename_columns.values()]].to_csv(\"indicators_clean.csv\", index=True)"
   ]
  },
  {
   "cell_type": "code",
   "execution_count": null,
   "id": "77620942",
   "metadata": {},
   "outputs": [],
   "source": []
  }
 ],
 "metadata": {
  "kernelspec": {
   "display_name": "python3.12",
   "language": "python",
   "name": "python3"
  },
  "language_info": {
   "codemirror_mode": {
    "name": "ipython",
    "version": 3
   },
   "file_extension": ".py",
   "mimetype": "text/x-python",
   "name": "python",
   "nbconvert_exporter": "python",
   "pygments_lexer": "ipython3",
   "version": "3.13.3"
  }
 },
 "nbformat": 4,
 "nbformat_minor": 5
}
