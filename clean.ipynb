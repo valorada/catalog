{
 "cells": [
  {
   "cell_type": "code",
   "execution_count": 1,
   "id": "557c8c03",
   "metadata": {},
   "outputs": [],
   "source": [
    "import pandas as pd"
   ]
  },
  {
   "cell_type": "code",
   "execution_count": null,
   "id": "85eba8a0",
   "metadata": {},
   "outputs": [],
   "source": [
    "rename_columns = {\n",
    "    \"Data_ID\": \"dataset_id\",\n",
    "    \"IndicatorID\": \"indicator_id\",\n",
    "    \"Category\": \"category\",\n",
    "    \"Indicator Name\": \"name\",\n",
    "    \"Data_Name\": \"name\",\n",
    "    \"Indicator_Description\": \"description\",\n",
    "    \"Indicator Source(s)\": \"source\",\n",
    "    \"General_Description_Datasets\": \"description\",\n",
    "    \"Dataset_Examples_ Citation\": \"citation\",\n",
    "    \"Dataset_Sources_Examples_ Licenses\": \"licenses\",\n",
    "    \"Dataset_Examples_ Notes\": \"notes\",\n",
    "}\n",
    "\n",
    "# ddf = pd.read_csv(\"datasets.csv\").dropna(how=\"all\").rename(columns=rename_columns).set_index(\"dataset_id\")\n",
    "# idf = pd.read_csv(\"indicators.csv\").dropna(how=\"all\").rename(columns=rename_columns).set_index(\"indicator_id\")\n",
    "\n",
    "idf = (\n",
    "    pd.read_excel(\"catalog.xlsx\", sheet_name=\"Page_1_CIC_Indicators_Data\")\n",
    "    .dropna(how=\"all\")\n",
    "    .rename(columns=rename_columns)\n",
    "    .set_index(\"indicator_id\")\n",
    ")\n",
    "ddf = (\n",
    "    pd.read_excel(\"catalog.xlsx\", sheet_name=\"Page_2_Data_To_Indicators\")\n",
    "    .dropna(how=\"all\")\n",
    "    .rename(columns=rename_columns)\n",
    "    .set_index(\"dataset_id\")\n",
    ")\n",
    "# ddf.columns"
   ]
  },
  {
   "cell_type": "code",
   "execution_count": null,
   "id": "d457fcc8",
   "metadata": {},
   "outputs": [],
   "source": [
    "link_cols = [c for c in ddf.columns if c.startswith(\"Ind\") and c.endswith(\"ID\")]\n",
    "# ddf[[c for c in ddf.columns if c not in link_cols]].to_csv(\"datasets.csv\", index=True)\n",
    "ddf_links = ddf[link_cols]\n",
    "\n",
    "link_cols = [c for c in idf.columns if c.startswith(\"Data_\") and c.endswith(\"ID\")]\n",
    "# idf[[c for c in idf.columns if c not in link_cols]].to_csv(\"indicators.csv\", index=True)\n",
    "idf_links = idf[link_cols]"
   ]
  },
  {
   "cell_type": "code",
   "execution_count": null,
   "id": "25c8aed1",
   "metadata": {},
   "outputs": [],
   "source": [
    "idf_links.reset_index().melt(\n",
    "    id_vars=[\"indicator_id\"],\n",
    "    value_vars=link_cols,\n",
    "    value_name=\"dataset_id\",\n",
    ").replace(\"xxx\", pd.NA).dropna(subset=[\"dataset_id\"]).drop(\n",
    "    columns=[\"variable\"]\n",
    ").sort_values(\n",
    "    by=[\"indicator_id\", \"dataset_id\"]\n",
    ").to_csv(\n",
    "    \"links.csv\", index=False\n",
    ")"
   ]
  },
  {
   "cell_type": "code",
   "execution_count": null,
   "id": "c47833cd",
   "metadata": {},
   "outputs": [],
   "source": [
    "ddf[[c for c in ddf.columns if c in rename_columns.values()]].to_csv(\n",
    "    \"datasets.csv\", index=True\n",
    ")\n",
    "idf[[c for c in idf.columns if c in rename_columns.values()]].to_csv(\n",
    "    \"indicators.csv\", index=True\n",
    ")"
   ]
  },
  {
   "cell_type": "code",
   "execution_count": null,
   "id": "27ea453b",
   "metadata": {},
   "outputs": [],
   "source": [
    "# group links for airtable\n",
    "links = pd.read_csv(\"links.csv\")\n",
    "links = (\n",
    "    links.groupby(\"indicator_id\")[\"dataset_id\"]\n",
    "    .apply(lambda x: \",\".join(x))\n",
    "    .reset_index()\n",
    ")\n",
    "links.to_csv(\"links_grouped.csv\", index=False)"
   ]
  },
  {
   "cell_type": "code",
   "execution_count": null,
   "id": "33ad64e4",
   "metadata": {},
   "outputs": [],
   "source": []
  }
 ],
 "metadata": {
  "kernelspec": {
   "display_name": "python3.12",
   "language": "python",
   "name": "python3"
  },
  "language_info": {
   "codemirror_mode": {
    "name": "ipython",
    "version": 3
   },
   "file_extension": ".py",
   "mimetype": "text/x-python",
   "name": "python",
   "nbconvert_exporter": "python",
   "pygments_lexer": "ipython3",
   "version": "3.13.3"
  }
 },
 "nbformat": 4,
 "nbformat_minor": 5
}
